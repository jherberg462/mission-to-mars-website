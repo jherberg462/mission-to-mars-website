{
 "cells": [
  {
   "cell_type": "code",
   "execution_count": 1,
   "metadata": {},
   "outputs": [],
   "source": [
    "from splinter import Browser\n",
    "from bs4 import BeautifulSoup as bs\n",
    "import time\n",
    "import pandas as pd\n",
    "import numpy as np"
   ]
  },
  {
   "cell_type": "code",
   "execution_count": 2,
   "metadata": {},
   "outputs": [
    {
     "name": "stdout",
     "output_type": "stream",
     "text": [
      "/usr/local/bin/chromedriver\r\n"
     ]
    }
   ],
   "source": [
    "!which chromedriver"
   ]
  },
  {
   "cell_type": "code",
   "execution_count": 3,
   "metadata": {},
   "outputs": [],
   "source": [
    "executable_path = {'executable_path': '/usr/local/bin/chromedriver'}\n",
    "browser = Browser('chrome', **executable_path, headless=True)"
   ]
  },
  {
   "cell_type": "code",
   "execution_count": 4,
   "metadata": {},
   "outputs": [],
   "source": [
    "nasa_url = 'https://mars.nasa.gov/news'"
   ]
  },
  {
   "cell_type": "code",
   "execution_count": 5,
   "metadata": {},
   "outputs": [],
   "source": [
    "time.sleep(3) #giving the browser enough time to open before accessing website to avoid an index error\n",
    "browser.visit(nasa_url)\n",
    "time.sleep(5)\n",
    "html = browser.html #if not enough time is given, the html of a blank webpage will be set to this variable\n",
    "soup = bs(html, 'html.parser')\n"
   ]
  },
  {
   "cell_type": "code",
   "execution_count": 6,
   "metadata": {},
   "outputs": [],
   "source": [
    "latest_news_paragraph = soup.find('div', class_='content_title')\n",
    "latest_news_paragraph = str(latest_news_paragraph)\n",
    "latest_news_paragraph = latest_news_paragraph.split('>')[2].split('</a')[0]\n",
    "latest_news_headline = soup.find('div', class_='article_teaser_body')\n",
    "latest_news_headline = str(latest_news_headline)\n",
    "latest_news_headline = latest_news_headline.split('>')[1].split('</')[0]\n",
    "#latest news headline and teaser paragraph"
   ]
  },
  {
   "cell_type": "code",
   "execution_count": 7,
   "metadata": {},
   "outputs": [],
   "source": [
    "jpl_url = 'https://www.jpl.nasa.gov/spaceimages/?search=&category=Mars'"
   ]
  },
  {
   "cell_type": "code",
   "execution_count": 8,
   "metadata": {},
   "outputs": [],
   "source": [
    "browser.visit(jpl_url)\n",
    "html = browser.html\n",
    "soup = bs(html, 'html.parser')"
   ]
  },
  {
   "cell_type": "code",
   "execution_count": 9,
   "metadata": {},
   "outputs": [],
   "source": [
    "featured_image_url = soup.find('a', class_='button fancybox')\n",
    "featured_image_url = str(featured_image_url)\n",
    "featured_image_url = featured_image_url.split('data-fancybox-href=\"')[1].split('\" d')[0]\n",
    "featured_image_url = f'https://www.jpl.nasa.gov{featured_image_url}' \n",
    "#url of featured image"
   ]
  },
  {
   "cell_type": "code",
   "execution_count": 10,
   "metadata": {},
   "outputs": [],
   "source": [
    "twitter_url = 'https://twitter.com/marswxreport?lang=en'\n",
    "browser.visit(twitter_url)\n"
   ]
  },
  {
   "cell_type": "code",
   "execution_count": 11,
   "metadata": {},
   "outputs": [],
   "source": [
    "html= browser.html\n",
    "soup = bs(html, 'html.parser')\n",
    "find_weather = soup.find_all('p', class_='TweetTextSize TweetTextSize--normal js-tweet-text tweet-text')\n",
    "#get list of html of all tweets available by visiting the site"
   ]
  },
  {
   "cell_type": "code",
   "execution_count": 12,
   "metadata": {},
   "outputs": [],
   "source": [
    "first_forcast_index = len(find_weather) #set variable to the last tweet \n",
    "for x in np.arange(0, len(find_weather)):\n",
    "    not_weather_check = find_weather[x]\n",
    "    not_weather_check = str(not_weather_check)\n",
    "    not_weather_check = not_weather_check.split('pic.twitter')\n",
    "    not_weather_check = len(not_weather_check)\n",
    "    if not_weather_check == 2:\n",
    "        if x < first_forcast_index:\n",
    "            first_forcast_index = x\n",
    "latest_weather_tweet = find_weather[first_forcast_index]\n",
    "latest_weather_tweet = str(latest_weather_tweet)\n",
    "latest_weather_tweet = latest_weather_tweet.split('InSight ')[1].split('<')[0]\n",
    "#latest mars weather"
   ]
  },
  {
   "cell_type": "code",
   "execution_count": 13,
   "metadata": {},
   "outputs": [],
   "source": [
    "space_facts = 'https://space-facts.com/mars/'\n",
    "mars_list = pd.read_html(space_facts)"
   ]
  },
  {
   "cell_type": "code",
   "execution_count": 14,
   "metadata": {},
   "outputs": [],
   "source": [
    "df = mars_list[0]\n",
    "df.columns = ['Fact', 'Value']"
   ]
  },
  {
   "cell_type": "code",
   "execution_count": 15,
   "metadata": {},
   "outputs": [],
   "source": [
    "mars_facts_table = df.to_html()\n",
    "#html table of mars facts"
   ]
  },
  {
   "cell_type": "code",
   "execution_count": 16,
   "metadata": {},
   "outputs": [],
   "source": [
    "image_page = 'https://astrogeology.usgs.gov/search/results?q=hemisphere+enhanced&k1=target&v1=Mars'\n",
    "browser.visit(image_page)\n",
    "html = browser.html\n",
    "soup = bs(html, 'html.parser')"
   ]
  },
  {
   "cell_type": "code",
   "execution_count": 17,
   "metadata": {},
   "outputs": [],
   "source": [
    "locate_images = soup.find_all('div', class_='item')#[0].find_all('a')[0]"
   ]
  },
  {
   "cell_type": "code",
   "execution_count": 18,
   "metadata": {},
   "outputs": [],
   "source": [
    "list_of_dictionaries = []\n",
    "for x in np.arange(0,len(locate_images)):\n",
    "    image =locate_images[x].find_all('a')[0]\n",
    "    image = str(image)\n",
    "    image = image.split('href=\"')[1].split('\">')[0]\n",
    "    image = f'https://astrogeology.usgs.gov{image}'\n",
    "    browser.visit(image)\n",
    "    html = browser.html\n",
    "    soup = bs(html, 'html.parser')\n",
    "    title = soup.find('h2', class_='title').text\n",
    "    title = str(title)\n",
    "    link = soup.find('div', class_='downloads').find('a')\n",
    "    link = str(link)\n",
    "    link = link.split('href=\"')[1].split('\" ')[0]\n",
    "    dictionary = {'title': title, 'link': link}\n",
    "    list_of_dictionaries.append(dictionary)\n",
    "#dictionary of title and url of images\n",
    "    \n",
    "    \n",
    "    \n",
    "    "
   ]
  },
  {
   "cell_type": "code",
   "execution_count": 19,
   "metadata": {},
   "outputs": [],
   "source": [
    "url = 'https://astrogeology.usgs.gov/search/map/Mars/Viking/cerberus_enhanced'\n",
    "browser.visit(url)\n",
    "html = browser.html\n",
    "soup = bs(html, 'html.parser')"
   ]
  },
  {
   "cell_type": "code",
   "execution_count": 20,
   "metadata": {},
   "outputs": [
    {
     "data": {
      "text/plain": [
       "'http://astropedia.astrogeology.usgs.gov/download/Mars/Viking/cerberus_enhanced.tif/full.jpg'"
      ]
     },
     "execution_count": 20,
     "metadata": {},
     "output_type": "execute_result"
    }
   ],
   "source": [
    "link = soup.find('div', class_='downloads').find('a') #.split('href=\"').split('\" ')\n",
    "link = str(link)\n",
    "link = link.split('href=\"')[1].split('\" ')[0]\n",
    "link"
   ]
  },
  {
   "cell_type": "code",
   "execution_count": 21,
   "metadata": {},
   "outputs": [],
   "source": [
    "browser.quit()"
   ]
  }
 ],
 "metadata": {
  "kernelspec": {
   "display_name": "Python 3",
   "language": "python",
   "name": "python3"
  },
  "language_info": {
   "codemirror_mode": {
    "name": "ipython",
    "version": 3
   },
   "file_extension": ".py",
   "mimetype": "text/x-python",
   "name": "python",
   "nbconvert_exporter": "python",
   "pygments_lexer": "ipython3",
   "version": "3.7.3"
  }
 },
 "nbformat": 4,
 "nbformat_minor": 2
}
